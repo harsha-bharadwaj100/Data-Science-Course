{
 "cells": [
  {
   "cell_type": "code",
   "execution_count": 1,
   "id": "c892304f",
   "metadata": {},
   "outputs": [],
   "source": [
    "import sqlite3"
   ]
  },
  {
   "cell_type": "code",
   "execution_count": null,
   "id": "ded1cd69",
   "metadata": {},
   "outputs": [],
   "source": [
    "connection = sqlite3.connect(\"data.db\")\n",
    "cursor = connection.cursor()"
   ]
  },
  {
   "cell_type": "code",
   "execution_count": null,
   "id": "b4434c79",
   "metadata": {},
   "outputs": [
    {
     "data": {
      "text/plain": [
       "<sqlite3.Cursor at 0x20d497e5f40>"
      ]
     },
     "execution_count": 3,
     "metadata": {},
     "output_type": "execute_result"
    }
   ],
   "source": [
    "cursor.execute(\n",
    "    \"\"\"\n",
    "\n",
    "    CREATE TABLE IF NOT EXISTS users (\n",
    "\n",
    "        id INTEGER PRIMARY KEY AUTOINCREMENT,\n",
    "\n",
    "        name TEXT NOT NULL,\n",
    "\n",
    "        email TEXT NOT NULL,\n",
    "\n",
    "        password TEXT NOT NULL\n",
    "\n",
    "    )\n",
    "\n",
    "\"\"\"\n",
    ")"
   ]
  },
  {
   "cell_type": "code",
   "execution_count": 5,
   "id": "7b929e87",
   "metadata": {},
   "outputs": [],
   "source": [
    "connection.commit()"
   ]
  },
  {
   "cell_type": "code",
   "execution_count": null,
   "id": "82058fa1",
   "metadata": {},
   "outputs": [
    {
     "data": {
      "text/plain": [
       "<sqlite3.Cursor at 0x20d497e5f40>"
      ]
     },
     "execution_count": 6,
     "metadata": {},
     "output_type": "execute_result"
    }
   ],
   "source": [
    "cursor.execute(\n",
    "    \"\"\"\n",
    "\n",
    "    CREATE TABLE IF NOT EXISTS posts (\n",
    "\n",
    "        id INTEGER PRIMARY KEY AUTOINCREMENT,\n",
    "\n",
    "        title TEXT NOT NULL,\n",
    "\n",
    "        content TEXT NOT NULL,\n",
    "\n",
    "        user_id INTEGER NOT NULL,\n",
    "\n",
    "        FOREIGN KEY (user_id) REFERENCES users (id)\n",
    "    )\n",
    "            \"\"\"\n",
    ")"
   ]
  },
  {
   "cell_type": "code",
   "execution_count": 9,
   "id": "9eb84a8b",
   "metadata": {},
   "outputs": [],
   "source": [
    "connection.commit()"
   ]
  },
  {
   "cell_type": "code",
   "execution_count": null,
   "id": "af0aa4cf",
   "metadata": {},
   "outputs": [
    {
     "data": {
      "text/plain": [
       "<sqlite3.Cursor at 0x20d497e5f40>"
      ]
     },
     "execution_count": 10,
     "metadata": {},
     "output_type": "execute_result"
    }
   ],
   "source": [
    "cursor.execute(\n",
    "    \"\"\"\n",
    "\n",
    "    INSERT INTO users (name, email, password) VALUES\n",
    "\n",
    "    ('Alice', 'YB0rG@example.com', 'password1'),\n",
    "\n",
    "    ('Bob', 'Hs0dX@example.com', 'password2'),\n",
    "\n",
    "    ('Charlie', 'Ht6wq@example.com', 'password3')\n",
    "\"\"\"\n",
    ")"
   ]
  },
  {
   "cell_type": "code",
   "execution_count": null,
   "id": "6cae2079",
   "metadata": {},
   "outputs": [
    {
     "data": {
      "text/plain": [
       "<sqlite3.Cursor at 0x20d497e5f40>"
      ]
     },
     "execution_count": 11,
     "metadata": {},
     "output_type": "execute_result"
    }
   ],
   "source": [
    "cursor.execute(\n",
    "    \"\"\"\n",
    "\n",
    "    INSERT INTO posts (title, content, user_id) VALUES\n",
    "\n",
    "    ('First Post', 'This is the first post.', 1),\n",
    "\n",
    "    ('Second Post', 'This is the second post.', 2),\n",
    "\n",
    "    ('Third Post', 'This is the third post.', 3)\n",
    "\"\"\"\n",
    ")"
   ]
  },
  {
   "cell_type": "code",
   "execution_count": 12,
   "id": "965c9f91",
   "metadata": {},
   "outputs": [],
   "source": [
    "connection.commit()"
   ]
  },
  {
   "cell_type": "code",
   "execution_count": null,
   "id": "a8555c32",
   "metadata": {},
   "outputs": [
    {
     "name": "stdout",
     "output_type": "stream",
     "text": [
      "(1, 'Alice', 'YB0rG@example.com', 'password1')\n",
      "(2, 'Bob', 'Hs0dX@example.com', 'password2')\n",
      "(3, 'Charlie', 'Ht6wq@example.com', 'password3')\n"
     ]
    }
   ],
   "source": [
    "cursor.execute(\n",
    "    \"\"\"\n",
    "\n",
    "            SELECT * FROM users;       \n",
    "\n",
    "            \"\"\"\n",
    ")\n",
    "\n",
    "rows = cursor.fetchall()\n",
    "\n",
    "for row in rows:\n",
    "\n",
    "    print(row)"
   ]
  },
  {
   "cell_type": "code",
   "execution_count": null,
   "id": "4b7e4cc2",
   "metadata": {},
   "outputs": [],
   "source": []
  }
 ],
 "metadata": {
  "kernelspec": {
   "display_name": ".venv",
   "language": "python",
   "name": "python3"
  },
  "language_info": {
   "codemirror_mode": {
    "name": "ipython",
    "version": 3
   },
   "file_extension": ".py",
   "mimetype": "text/x-python",
   "name": "python",
   "nbconvert_exporter": "python",
   "pygments_lexer": "ipython3",
   "version": "3.12.2"
  }
 },
 "nbformat": 4,
 "nbformat_minor": 5
}
