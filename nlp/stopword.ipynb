{
 "cells": [
  {
   "cell_type": "code",
   "execution_count": null,
   "id": "48281c19",
   "metadata": {},
   "outputs": [],
   "source": [
    "## Speech Of DR APJ Abdul Kalam\n",
    "paragraph = \"\"\"I have three visions for India. In 3000 years of our history, people from all over \n",
    "            the world have come and invaded us, captured our lands, conquered our minds. \n",
    "            From Alexander onwards, the Greeks, the Turks, the Moguls, the Portuguese, the British,\n",
    "            the French, the Dutch, all of them came and looted us, took over what was ours. \n",
    "            Yet we have not done this to any other nation. We have not conquered anyone. \n",
    "            We have not grabbed their land, their culture, \n",
    "            their history and tried to enforce our way of life on them. \n",
    "            Why? Because we respect the freedom of others.That is why my \n",
    "            first vision is that of freedom. I believe that India got its first vision of \n",
    "            this in 1857, when we started the War of Independence. It is this freedom that\n",
    "            we must protect and nurture and build on. If we are not free, no one will respect us.\n",
    "            My second vision for India’s development. For fifty years we have been a developing nation.\n",
    "            It is time we see ourselves as a developed nation. We are among the top 5 nations of the world\n",
    "            in terms of GDP. We have a 10 percent growth rate in most areas. Our poverty levels are falling.\n",
    "            Our achievements are being globally recognised today. Yet we lack the self-confidence to\n",
    "            see ourselves as a developed nation, self-reliant and self-assured. Isn’t this incorrect?\n",
    "            I have a third vision. India must stand up to the world. Because I believe that unless India \n",
    "            stands up to the world, no one will respect us. Only strength respects strength. We must be \n",
    "            strong not only as a military power but also as an economic power. Both must go hand-in-hand. \n",
    "            My good fortune was to have worked with three great minds. Dr. Vikram Sarabhai of the Dept. of \n",
    "            space, Professor Satish Dhawan, who succeeded him and Dr. Brahm Prakash, father of nuclear material.\n",
    "            I was lucky to have worked with all three of them closely and consider this the great opportunity of my life.\"\"\""
   ]
  },
  {
   "cell_type": "code",
   "execution_count": null,
   "id": "14c7d281",
   "metadata": {},
   "outputs": [
    {
     "name": "stderr",
     "output_type": "stream",
     "text": [
      "[nltk_data] Downloading package stopwords to\n",
      "[nltk_data]     C:\\Users\\harsh\\AppData\\Roaming\\nltk_data...\n"
     ]
    },
    {
     "name": "stdout",
     "output_type": "stream",
     "text": [
      "['I', 'three', 'visions', 'India', '.', 'In', '3000', 'years', 'history', ',', 'people', 'world', 'come', 'invaded', 'us', ',', 'captured', 'lands', ',', 'conquered', 'minds', '.', 'From', 'Alexander', 'onwards', ',', 'Greeks', ',', 'Turks', ',', 'Moguls', ',', 'Portuguese', ',', 'British', ',', 'French', ',', 'Dutch', ',', 'came', 'looted', 'us', ',', 'took', '.', 'Yet', 'done', 'nation', '.', 'We', 'conquered', 'anyone', '.', 'We', 'grabbed', 'land', ',', 'culture', ',', 'history', 'tried', 'enforce', 'way', 'life', '.', 'Why', '?', 'Because', 'respect', 'freedom', 'others.That', 'first', 'vision', 'freedom', '.', 'I', 'believe', 'India', 'got', 'first', 'vision', '1857', ',', 'started', 'War', 'Independence', '.', 'It', 'freedom', 'must', 'protect', 'nurture', 'build', '.', 'If', 'free', ',', 'one', 'respect', 'us', '.', 'My', 'second', 'vision', 'India', '’', 'development', '.', 'For', 'fifty', 'years', 'developing', 'nation', '.', 'It', 'time', 'see', 'developed', 'nation', '.', 'We', 'among', 'top', '5', 'nations', 'world', 'terms', 'GDP', '.', 'We', '10', 'percent', 'growth', 'rate', 'areas', '.', 'Our', 'poverty', 'levels', 'falling', '.', 'Our', 'achievements', 'globally', 'recognised', 'today', '.', 'Yet', 'lack', 'self-confidence', 'see', 'developed', 'nation', ',', 'self-reliant', 'self-assured', '.', 'Isn', '’', 'incorrect', '?', 'I', 'third', 'vision', '.', 'India', 'must', 'stand', 'world', '.', 'Because', 'I', 'believe', 'unless', 'India', 'stands', 'world', ',', 'one', 'respect', 'us', '.', 'Only', 'strength', 'respects', 'strength', '.', 'We', 'must', 'strong', 'military', 'power', 'also', 'economic', 'power', '.', 'Both', 'must', 'go', 'hand-in-hand', '.', 'My', 'good', 'fortune', 'worked', 'three', 'great', 'minds', '.', 'Dr.', 'Vikram', 'Sarabhai', 'Dept', '.', 'space', ',', 'Professor', 'Satish', 'Dhawan', ',', 'succeeded', 'Dr.', 'Brahm', 'Prakash', ',', 'father', 'nuclear', 'material', '.', 'I', 'lucky', 'worked', 'three', 'closely', 'consider', 'great', 'opportunity', 'life', '.']\n"
     ]
    },
    {
     "name": "stderr",
     "output_type": "stream",
     "text": [
      "[nltk_data]   Unzipping corpora\\stopwords.zip.\n"
     ]
    }
   ],
   "source": [
    "# import nltk\n",
    "# nltk.download('stopwords')\n",
    "from nltk.corpus import stopwords\n",
    "from nltk.tokenize import word_tokenize\n",
    "\n",
    "stop_words = set(stopwords.words(\"english\"))\n",
    "words = word_tokenize(paragraph)\n",
    "filtered_sentence = [w for w in words if not w in stop_words]\n",
    "filtered_sentence = []\n",
    "for w in words:\n",
    "    if w not in stop_words:\n",
    "        filtered_sentence.append(w)\n",
    "print(filtered_sentence)"
   ]
  },
  {
   "cell_type": "code",
   "execution_count": 6,
   "id": "a3b72e1f",
   "metadata": {},
   "outputs": [
    {
     "name": "stdout",
     "output_type": "stream",
     "text": [
      "{'the', 'that', 'theirs', 'shouldn', 'it', \"don't\", \"he's\", 'yourselves', \"haven't\", 'this', 'ain', 'their', 'needn', 'y', 'while', 'what', \"mustn't\", 'few', 'over', \"it'll\", \"you'll\", \"she'll\", \"should've\", 'o', 'hasn', 'you', 'same', 'whom', 'wouldn', 'ours', \"shan't\", 'why', 'more', 'won', 'hadn', 'he', \"she's\", 'having', 'did', 'doesn', \"it'd\", \"we've\", 'very', 'on', \"they've\", 'about', 'than', \"they'd\", 'don', 'haven', \"they'll\", 'itself', 'which', \"didn't\", 'there', 'themselves', 'doing', \"doesn't\", 'its', 'of', 'with', 'my', 'here', 'they', 'i', 'herself', 'were', 'from', 'further', 'where', \"weren't\", 'both', 'only', 'not', \"it's\", 'hers', 'yours', 'nor', 'most', 'mustn', 'above', \"i'm\", \"they're\", \"we're\", 'again', 'between', 'couldn', 'in', 'we', 'against', \"wouldn't\", 'down', \"i'll\", 'so', 'do', 's', 'are', 'was', 'an', 'at', \"hasn't\", 'ma', 'if', \"we'd\", 'myself', 'then', \"you're\", 'all', 'have', 'our', 'below', 't', \"couldn't\", \"you've\", 'but', \"hadn't\", 'some', 'these', 've', 'after', 'before', \"i've\", \"needn't\", 'during', \"he'll\", 'who', 'be', 'can', 'them', \"mightn't\", 'as', 'own', 'just', 'will', 'each', 'shan', 're', 'aren', \"she'd\", 'a', \"he'd\", 'by', 'am', \"i'd\", 'being', \"wasn't\", \"we'll\", 'once', 'through', 'until', 'is', 'him', 'because', 'she', 'now', 'how', 'his', 'ourselves', 'under', 'for', 'off', 'out', \"aren't\", 'has', 'other', 'her', 'yourself', 'm', \"that'll\", 'wasn', \"shouldn't\", 'and', 'me', 'does', 'should', 'no', 'weren', 'll', 'any', 'to', \"won't\", 'didn', 'isn', 'such', 'd', 'too', 'up', 'those', 'your', \"you'd\", 'been', 'had', 'himself', 'mightn', \"isn't\", 'or', 'when', 'into'}\n",
      "{'the', 'that', 'all', 'have', 'its', 'of', 'our', 't', 'ourselves', 'for', 'my', 'but', 'other', 'this', 'from', 'their', 'only', 'not', 'what', 'who', 'be', 'and', 'over', 'most', 'them', 'as', 'no', 'will', 'any', 'to', 'him', 'ours', 'why', 'we', 'in', 'up', 'a', 'on', 'been', 'when', 's', 'are', 'was', 'an', 'being', 'is', 'with'}\n"
     ]
    }
   ],
   "source": [
    "# Print the stop words\n",
    "print(stop_words)\n",
    "# print the ones present in the corpus\n",
    "print(set(words) & stop_words)"
   ]
  },
  {
   "cell_type": "code",
   "execution_count": null,
   "id": "3f669c0a",
   "metadata": {},
   "outputs": [],
   "source": []
  }
 ],
 "metadata": {
  "kernelspec": {
   "display_name": ".venv",
   "language": "python",
   "name": "python3"
  },
  "language_info": {
   "codemirror_mode": {
    "name": "ipython",
    "version": 3
   },
   "file_extension": ".py",
   "mimetype": "text/x-python",
   "name": "python",
   "nbconvert_exporter": "python",
   "pygments_lexer": "ipython3",
   "version": "3.12.2"
  }
 },
 "nbformat": 4,
 "nbformat_minor": 5
}
