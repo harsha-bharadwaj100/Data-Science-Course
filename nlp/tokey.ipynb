{
 "cells": [
  {
   "cell_type": "code",
   "execution_count": 11,
   "id": "f4d33f39",
   "metadata": {},
   "outputs": [],
   "source": [
    "corpus = \"\"\"Hi, I'm Harsha Bharadwaj.\n",
    "I'm doing a course on NLP with Python!\n",
    "My friend's work is awesome as well!\n",
    "\"\"\""
   ]
  },
  {
   "cell_type": "code",
   "execution_count": 2,
   "id": "2aba6181",
   "metadata": {},
   "outputs": [],
   "source": [
    "from nltk.tokenize import sent_tokenize"
   ]
  },
  {
   "cell_type": "code",
   "execution_count": 12,
   "id": "4679df33",
   "metadata": {},
   "outputs": [
    {
     "data": {
      "text/plain": [
       "[\"Hi, I'm Harsha Bharadwaj.\",\n",
       " \"I'm doing a course on NLP with Python!\",\n",
       " \"My friend's work is awesome as well!\"]"
      ]
     },
     "execution_count": 12,
     "metadata": {},
     "output_type": "execute_result"
    }
   ],
   "source": [
    "sent_tokenize(corpus)"
   ]
  },
  {
   "cell_type": "code",
   "execution_count": null,
   "id": "5a66dcc4",
   "metadata": {},
   "outputs": [
    {
     "name": "stderr",
     "output_type": "stream",
     "text": [
      "[nltk_data] Downloading package punkt_tab to\n",
      "[nltk_data]     C:\\Users\\harsh\\AppData\\Roaming\\nltk_data...\n",
      "[nltk_data]   Unzipping tokenizers\\punkt_tab.zip.\n"
     ]
    },
    {
     "data": {
      "text/plain": [
       "True"
      ]
     },
     "execution_count": 9,
     "metadata": {},
     "output_type": "execute_result"
    }
   ],
   "source": [
    "import nltk\n",
    "\n",
    "\n",
    "nltk.download(\"punkt_tab\")"
   ]
  },
  {
   "cell_type": "code",
   "execution_count": null,
   "id": "34346eca",
   "metadata": {},
   "outputs": [
    {
     "data": {
      "text/plain": [
       "['Hi',\n",
       " ',',\n",
       " 'I',\n",
       " \"'m\",\n",
       " 'Harsha',\n",
       " 'Bharadwaj',\n",
       " '.',\n",
       " 'I',\n",
       " \"'m\",\n",
       " 'doing',\n",
       " 'a',\n",
       " 'course',\n",
       " 'on',\n",
       " 'NLP',\n",
       " 'with',\n",
       " 'Python',\n",
       " '!',\n",
       " 'My',\n",
       " 'friend',\n",
       " \"'s\",\n",
       " 'work',\n",
       " 'is',\n",
       " 'awesome',\n",
       " 'as',\n",
       " 'well',\n",
       " '!']"
      ]
     },
     "execution_count": 13,
     "metadata": {},
     "output_type": "execute_result"
    }
   ],
   "source": [
    "from nltk.tokenize import word_tokenize\n",
    "\n",
    "word_tokenize(corpus)"
   ]
  },
  {
   "cell_type": "code",
   "execution_count": null,
   "id": "8497981f",
   "metadata": {},
   "outputs": [
    {
     "data": {
      "text/plain": [
       "['Hi',\n",
       " ',',\n",
       " 'I',\n",
       " \"'m\",\n",
       " 'Harsha',\n",
       " 'Bharadwaj.',\n",
       " 'I',\n",
       " \"'m\",\n",
       " 'doing',\n",
       " 'a',\n",
       " 'course',\n",
       " 'on',\n",
       " 'NLP',\n",
       " 'with',\n",
       " 'Python',\n",
       " '!',\n",
       " 'My',\n",
       " 'friend',\n",
       " \"'s\",\n",
       " 'work',\n",
       " 'is',\n",
       " 'awesome',\n",
       " 'as',\n",
       " 'well',\n",
       " '!']"
      ]
     },
     "execution_count": 14,
     "metadata": {},
     "output_type": "execute_result"
    }
   ],
   "source": [
    "from nltk.tokenize import TreebankWordTokenizer\n",
    "\n",
    "\n",
    "tokenizer = TreebankWordTokenizer()\n",
    "\n",
    "tokenizer.tokenize(corpus)"
   ]
  },
  {
   "cell_type": "code",
   "execution_count": null,
   "id": "1339974a",
   "metadata": {},
   "outputs": [],
   "source": []
  }
 ],
 "metadata": {
  "kernelspec": {
   "display_name": ".venv",
   "language": "python",
   "name": "python3"
  },
  "language_info": {
   "codemirror_mode": {
    "name": "ipython",
    "version": 3
   },
   "file_extension": ".py",
   "mimetype": "text/x-python",
   "name": "python",
   "nbconvert_exporter": "python",
   "pygments_lexer": "ipython3",
   "version": "3.12.2"
  }
 },
 "nbformat": 4,
 "nbformat_minor": 5
}
