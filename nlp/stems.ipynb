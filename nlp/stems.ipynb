{
 "cells": [
  {
   "cell_type": "code",
   "execution_count": 2,
   "id": "1a212239",
   "metadata": {},
   "outputs": [],
   "source": [
    "import nltk"
   ]
  },
  {
   "cell_type": "code",
   "execution_count": null,
   "id": "d936e4d7",
   "metadata": {},
   "outputs": [],
   "source": [
    "# Stemming is a process of removing suffixes from words\n",
    "from nltk.stem.porter import PorterStemmer\n",
    "\n",
    "stemmer = PorterStemmer()"
   ]
  },
  {
   "cell_type": "code",
   "execution_count": null,
   "id": "8c9f04f0",
   "metadata": {},
   "outputs": [
    {
     "name": "stdout",
     "output_type": "stream",
     "text": [
      "grow\n",
      "grow\n",
      "grown\n",
      "grow\n"
     ]
    }
   ],
   "source": [
    "# Stemming\n",
    "print(stemmer.stem(\"growing\"))\n",
    "print(stemmer.stem(\"grows\"))\n",
    "print(stemmer.stem(\"grown\"))\n",
    "print(stemmer.stem(\"growing\"))"
   ]
  },
  {
   "cell_type": "code",
   "execution_count": null,
   "id": "b7bb77b9",
   "metadata": {},
   "outputs": [
    {
     "name": "stdout",
     "output_type": "stream",
     "text": [
      "eat\n",
      "eat\n",
      "ate\n",
      "eat\n",
      "eaten\n",
      "eat\n",
      "eatabl\n",
      "edibl\n"
     ]
    }
   ],
   "source": [
    "sample_words = [\"eating\", \"eating\", \"ate\", \"eat\", \"eaten\", \"eats\", \"eatable\", \"edible\"]\n",
    "for word in sample_words:\n",
    "    print(stemmer.stem(word))"
   ]
  },
  {
   "cell_type": "code",
   "execution_count": 8,
   "id": "b40048cc",
   "metadata": {},
   "outputs": [
    {
     "name": "stdout",
     "output_type": "stream",
     "text": [
      "histori\n",
      "congratul\n"
     ]
    }
   ],
   "source": [
    "# Stemming disadvantages\n",
    "print(stemmer.stem(\"history\"))\n",
    "print(stemmer.stem(\"congratulation\"))"
   ]
  },
  {
   "cell_type": "code",
   "execution_count": null,
   "id": "6e65c58d",
   "metadata": {},
   "outputs": [
    {
     "name": "stdout",
     "output_type": "stream",
     "text": [
      "grow\n",
      "grow\n",
      "grow\n",
      "grow\n"
     ]
    }
   ],
   "source": [
    "## Regex Stemmer\n",
    "\n",
    "from nltk.stem import RegexpStemmer\n",
    "\n",
    "stemmer = RegexpStemmer(\"ing$|s$|e$|able$|n$\", min=4)\n",
    "print(stemmer.stem(\"growing\"))\n",
    "print(stemmer.stem(\"grows\"))\n",
    "print(stemmer.stem(\"grown\"))\n",
    "print(stemmer.stem(\"growing\"))"
   ]
  },
  {
   "cell_type": "code",
   "execution_count": null,
   "id": "ab794d96",
   "metadata": {},
   "outputs": [
    {
     "name": "stdout",
     "output_type": "stream",
     "text": [
      "grow\n",
      "grow\n",
      "grown\n",
      "grow\n"
     ]
    }
   ],
   "source": [
    "## Snow Ball stemmer\n",
    "\n",
    "from nltk.stem.snowball import SnowballStemmer\n",
    "\n",
    "stemmer = SnowballStemmer(\"english\")\n",
    "print(stemmer.stem(\"growing\"))\n",
    "print(stemmer.stem(\"grows\"))\n",
    "print(stemmer.stem(\"grown\"))\n",
    "print(stemmer.stem(\"growing\"))"
   ]
  },
  {
   "cell_type": "code",
   "execution_count": 13,
   "id": "b94ce15c",
   "metadata": {},
   "outputs": [
    {
     "name": "stdout",
     "output_type": "stream",
     "text": [
      "histori\n",
      "congratul\n"
     ]
    }
   ],
   "source": [
    "print(stemmer.stem(\"history\"))\n",
    "print(stemmer.stem(\"congratulation\"))"
   ]
  },
  {
   "cell_type": "code",
   "execution_count": null,
   "id": "96235c69",
   "metadata": {},
   "outputs": [
    {
     "name": "stdout",
     "output_type": "stream",
     "text": [
      "fairli\n",
      "fair\n"
     ]
    }
   ],
   "source": [
    "print(PorterStemmer().stem(\"fairly\"))\n",
    "print(SnowballStemmer(\"english\").stem(\"fairly\"))"
   ]
  },
  {
   "cell_type": "code",
   "execution_count": null,
   "id": "e8f26f1f",
   "metadata": {},
   "outputs": [],
   "source": []
  }
 ],
 "metadata": {
  "kernelspec": {
   "display_name": ".venv",
   "language": "python",
   "name": "python3"
  },
  "language_info": {
   "codemirror_mode": {
    "name": "ipython",
    "version": 3
   },
   "file_extension": ".py",
   "mimetype": "text/x-python",
   "name": "python",
   "nbconvert_exporter": "python",
   "pygments_lexer": "ipython3",
   "version": "3.12.2"
  }
 },
 "nbformat": 4,
 "nbformat_minor": 5
}
