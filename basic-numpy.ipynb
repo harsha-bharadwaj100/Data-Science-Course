{
 "cells": [
  {
   "cell_type": "code",
   "execution_count": null,
   "id": "868a7e89",
   "metadata": {},
   "outputs": [
    {
     "name": "stdout",
     "output_type": "stream",
     "text": [
      "[1 2 3 4 5]\n"
     ]
    }
   ],
   "source": [
    "import numpy as np\n",
    "\n",
    "# Creating an array - 1D\n",
    "a1 = np.array([1, 2, 3, 4, 5])  # list\n",
    "\n",
    "print(a1)"
   ]
  },
  {
   "cell_type": "code",
   "execution_count": null,
   "id": "5e9d0f99",
   "metadata": {},
   "outputs": [
    {
     "name": "stdout",
     "output_type": "stream",
     "text": [
      "[0.74089976 0.15852487 0.64736629 0.56570741 0.0774934  0.2341428\n",
      " 0.17371053 0.23484585 0.77459076 0.41960664]\n",
      "(10,)\n",
      "float64\n"
     ]
    }
   ],
   "source": [
    "a2 = np.random.uniform(0, 1, 10)  # low, high, size\n",
    "print(a2)\n",
    "print(a2.shape)  # shape pattern: (rows, columns)\n",
    "print(a2.dtype)"
   ]
  },
  {
   "cell_type": "code",
   "execution_count": null,
   "id": "f31234a5",
   "metadata": {},
   "outputs": [
    {
     "name": "stdout",
     "output_type": "stream",
     "text": [
      "[[0.57230185 0.88744253 0.54629096 0.17252791]\n",
      " [0.80253955 0.31562787 0.28116691 0.42965246]\n",
      " [0.42445482 0.45901112 0.63655469 0.81559899]]\n",
      "(3, 4)\n",
      "float64\n"
     ]
    }
   ],
   "source": [
    "# create a 2d random array\n",
    "a3 = np.random.uniform(0, 1, (3, 4))  # shape is a tuple\n",
    "print(a3)\n",
    "print(a3.shape)\n",
    "print(a3.dtype)"
   ]
  },
  {
   "cell_type": "code",
   "execution_count": null,
   "id": "98e00480",
   "metadata": {},
   "outputs": [
    {
     "name": "stdout",
     "output_type": "stream",
     "text": [
      "[6 6 6 6 6]\n",
      "[-4 -2  0  2  4]\n",
      "[5 8 9 8 5]\n",
      "[0.2 0.5 1.  2.  5. ]\n",
      "[1 2 0 0 0]\n"
     ]
    }
   ],
   "source": [
    "# basic array operations\n",
    "a = np.array([1, 2, 3, 4, 5])\n",
    "b = np.array([5, 4, 3, 2, 1])\n",
    "# add, subtract, multiply, divide, modulo\n",
    "# Element-wise operations\n",
    "print(a + b)\n",
    "print(a - b)\n",
    "print(a * b)\n",
    "print(a / b)\n",
    "print(a % b)"
   ]
  },
  {
   "cell_type": "code",
   "execution_count": 10,
   "id": "bed4132c",
   "metadata": {},
   "outputs": [
    {
     "name": "stdout",
     "output_type": "stream",
     "text": [
      "[[ 6  8]\n",
      " [10 12]]\n",
      "[[-4 -4]\n",
      " [-4 -4]]\n",
      "[[ 5 12]\n",
      " [21 32]]\n",
      "[[0.2        0.33333333]\n",
      " [0.42857143 0.5       ]]\n",
      "[[1 2]\n",
      " [3 4]]\n",
      "[[19 22]\n",
      " [43 50]]\n"
     ]
    }
   ],
   "source": [
    "# Matrix operations\n",
    "a = np.array([[1, 2], [3, 4]])\n",
    "b = np.array([[5, 6], [7, 8]])\n",
    "print(a + b)\n",
    "print(a - b)\n",
    "print(a * b)\n",
    "print(a / b)\n",
    "print(a % b)\n",
    "print(a @ b)  # Matrix multiplication (dot product)"
   ]
  },
  {
   "cell_type": "code",
   "execution_count": null,
   "id": "b3fd9f0a",
   "metadata": {},
   "outputs": [],
   "source": [
    "# Indexing and Slicing\n",
    "a = np.array([1, 2, 3, 4, 5])\n",
    "print(a[0])\n",
    "print(a[1:4])"
   ]
  }
 ],
 "metadata": {
  "kernelspec": {
   "display_name": ".venv",
   "language": "python",
   "name": "python3"
  },
  "language_info": {
   "codemirror_mode": {
    "name": "ipython",
    "version": 3
   },
   "file_extension": ".py",
   "mimetype": "text/x-python",
   "name": "python",
   "nbconvert_exporter": "python",
   "pygments_lexer": "ipython3",
   "version": "3.12.2"
  }
 },
 "nbformat": 4,
 "nbformat_minor": 5
}
